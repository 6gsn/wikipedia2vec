{
 "cells": [
  {
   "cell_type": "code",
   "execution_count": 5,
   "metadata": {},
   "outputs": [],
   "source": [
    "import joblib\n",
    "import bz2\n",
    "from urllib.parse import urlparse\n",
    "from wikipedia2vec import Dictionary\n",
    "import numpy as np"
   ]
  },
  {
   "cell_type": "markdown",
   "metadata": {},
   "source": [
    "## Get all entity pairs"
   ]
  },
  {
   "cell_type": "code",
   "execution_count": 3,
   "metadata": {},
   "outputs": [
    {
     "name": "stdout",
     "output_type": "stream",
     "text": [
      "1000000\n",
      "2000000\n",
      "3000000\n",
      "4000000\n",
      "5000000\n",
      "6000000\n",
      "7000000\n",
      "8000000\n",
      "9000000\n",
      "11000000\n",
      "12000000\n",
      "13000000\n",
      "14000000\n",
      "15000000\n",
      "16000000\n",
      "17000000\n"
     ]
    }
   ],
   "source": [
    "lang_dic = Dictionary.load('/mnt/local1/jinjin/de/dic')\n",
    "eng_dic = Dictionary.load('/mnt/local1/jinjin/en/dic')\n",
    "\n",
    "entity_pairs = []\n",
    "\n",
    "with bz2.open('/data/jinjin/dbpedia/interlanguage_links_de.ttl.bz2', 'rt') as f:\n",
    "    for i, line in enumerate(f):\n",
    "        line = line.strip()\n",
    "        \n",
    "        if line.startswith('#'):\n",
    "            continue\n",
    "            \n",
    "        lang, _, eng, _ = line.split()\n",
    "        \n",
    "        lang, eng = urlparse(lang[1:-1]), urlparse(eng[1:-1])\n",
    "        \n",
    "        if eng.netloc == 'dbpedia.org':\n",
    "            lang_title = lang.path.split('/')[-1]\n",
    "            eng_title = eng.path.split('/')[-1]\n",
    "            \n",
    "            lang_ent = lang_dic.get_entity(lang_title)\n",
    "            eng_ent = eng_dic.get_entity(eng_title)\n",
    "            \n",
    "            if not lang_ent or not eng_ent:\n",
    "                continue\n",
    "            \n",
    "            entity_pairs.append((eng_ent, lang_ent))\n",
    "        \n",
    "        if i % 1000000 == 0:\n",
    "            print(i)"
   ]
  },
  {
   "cell_type": "markdown",
   "metadata": {},
   "source": [
    "## Take 1000 test pairs among frequent entities"
   ]
  },
  {
   "cell_type": "code",
   "execution_count": 6,
   "metadata": {},
   "outputs": [],
   "source": [
    "freq_entity_pairs = list(filter(lambda x: x[0].count > 20 and x[1].count > 20, entity_pairs))\n",
    "infreq_entity_pairs = list(filter(lambda x: x[0].count <= 20 or x[1].count <= 20, entity_pairs))\n",
    "freq_entity_pairs = np.random.permutation(freq_entity_pairs)\n",
    "test = list(freq_entity_pairs[:1000])\n",
    "train = list(freq_entity_pairs[1000:]) + infreq_entity_pairs"
   ]
  },
  {
   "cell_type": "code",
   "execution_count": 7,
   "metadata": {},
   "outputs": [],
   "source": [
    "joblib.dump(train, '/mnt/local1/jinjin/de/interlink')\n",
    "with open('data/trans/en-de/entity/wiki.txt', 'w') as f:\n",
    "    for eng_ent, lang_ent in test:\n",
    "        f.write('{}\\t{}\\n'.format(eng_ent.title, lang_ent.title))"
   ]
  },
  {
   "cell_type": "code",
   "execution_count": null,
   "metadata": {},
   "outputs": [],
   "source": []
  }
 ],
 "metadata": {
  "kernelspec": {
   "display_name": "Python 3",
   "language": "python",
   "name": "python3"
  },
  "language_info": {
   "codemirror_mode": {
    "name": "ipython",
    "version": 3
   },
   "file_extension": ".py",
   "mimetype": "text/x-python",
   "name": "python",
   "nbconvert_exporter": "python",
   "pygments_lexer": "ipython3",
   "version": "3.6.4"
  }
 },
 "nbformat": 4,
 "nbformat_minor": 2
}
