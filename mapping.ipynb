{
 "cells": [
  {
   "cell_type": "code",
   "execution_count": 1,
   "metadata": {},
   "outputs": [],
   "source": [
    "from wikipedia2vec import Wikipedia2Vec, mapper, interlink"
   ]
  },
  {
   "cell_type": "code",
   "execution_count": 2,
   "metadata": {},
   "outputs": [],
   "source": [
    "en = Wikipedia2Vec.load('/mnt/local1/jinjin/en/default.emb')\n",
    "de = Wikipedia2Vec.load('/mnt/local1/jinjin/de/default.emb')"
   ]
  },
  {
   "cell_type": "markdown",
   "metadata": {},
   "source": [
    "## Map By Entity"
   ]
  },
  {
   "cell_type": "code",
   "execution_count": 9,
   "metadata": {},
   "outputs": [],
   "source": [
    "ent_link = interlink.Interlink.load('/mnt/local1/jinjin/de/interlink', invert=True)\n",
    "ent_mapper = mapper.Mapper.train(de, en, ent_link)\n",
    "de_mapped = ent_mapper.map(de)\n",
    "de_mapped.save('/mnt/local1/jinjin/de/crosslingual/map_entity.emb')"
   ]
  },
  {
   "cell_type": "code",
   "execution_count": 4,
   "metadata": {},
   "outputs": [
    {
     "data": {
      "text/plain": [
       "[(<Entity Figuren aus Star Wars#C-3PO]] [[Kategorie:Abkürzung|C0003po>,\n",
       "  0.7895776),\n",
       " (<Entity Figuren aus Star Wars#Han Solo>, 0.76465994),\n",
       " (<Entity Luke Skywalker>, 0.76113784),\n",
       " (<Word chewbacca>, 0.74094933),\n",
       " (<Entity Figuren aus Star Wars>, 0.74028015),\n",
       " (<Word 3po>, 0.7375967),\n",
       " (<Word kenobi>, 0.7371188),\n",
       " (<Entity Darth Vader>, 0.73454404),\n",
       " (<Word vultan>, 0.7333641),\n",
       " (<Word rincewind>, 0.7309907)]"
      ]
     },
     "execution_count": 4,
     "metadata": {},
     "output_type": "execute_result"
    }
   ],
   "source": [
    "de_mapped.most_similar_by_vector(en.get_entity_vector('Yoda'), count=10)"
   ]
  },
  {
   "cell_type": "markdown",
   "metadata": {},
   "source": [
    "## Map By Word"
   ]
  },
  {
   "cell_type": "code",
   "execution_count": 10,
   "metadata": {},
   "outputs": [],
   "source": [
    "word_link = interlink.Interlink.load_text('/data/jinjin/dataset/dictionary/en-de.train.txt', en.dictionary, de.dictionary, invert=True)\n",
    "word_mapper = mapper.Mapper.train(de, en, word_link)\n",
    "de_mapped = word_mapper.map(de)\n",
    "de_mapped.save('/mnt/local1/jinjin/de/crosslingual/map_word.emb')"
   ]
  },
  {
   "cell_type": "code",
   "execution_count": 8,
   "metadata": {},
   "outputs": [
    {
     "data": {
      "text/plain": [
       "[(<Entity Obi-Wan Kenobi>, 0.75360006),\n",
       " (<Entity Figuren aus Star Wars>, 0.74492997),\n",
       " (<Entity Darth Vader>, 0.7418731),\n",
       " (<Entity Figuren aus Star Wars#C-3PO]] [[Kategorie:Abkürzung|C0003po>,\n",
       "  0.74132484),\n",
       " (<Word kenobi>, 0.7295595),\n",
       " (<Word anakin>, 0.728498),\n",
       " (<Word lichtschwert>, 0.72578514),\n",
       " (<Entity Luke Skywalker>, 0.7250226),\n",
       " (<Entity Figuren aus Star Wars#Chewbacca>, 0.7217887),\n",
       " (<Word zweiblum>, 0.717755)]"
      ]
     },
     "execution_count": 8,
     "metadata": {},
     "output_type": "execute_result"
    }
   ],
   "source": [
    "de_mapped.most_similar_by_vector(en.get_entity_vector('Yoda'), count=10)"
   ]
  }
 ],
 "metadata": {
  "kernelspec": {
   "display_name": "Python 3",
   "language": "python",
   "name": "python3"
  },
  "language_info": {
   "codemirror_mode": {
    "name": "ipython",
    "version": 3
   },
   "file_extension": ".py",
   "mimetype": "text/x-python",
   "name": "python",
   "nbconvert_exporter": "python",
   "pygments_lexer": "ipython3",
   "version": "3.6.4"
  }
 },
 "nbformat": 4,
 "nbformat_minor": 2
}
